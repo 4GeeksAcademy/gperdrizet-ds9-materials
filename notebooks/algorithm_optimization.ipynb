{
 "cells": [
  {
   "cell_type": "markdown",
   "metadata": {},
   "source": [
    "# Algorithm optimization & testing\n",
    "\n",
    "This notebook demonstrates performance testing for three different implementations of an algorithm which removes even numbers from a list.\n",
    "\n",
    "## Notebook set-up"
   ]
  },
  {
   "cell_type": "code",
   "execution_count": 2,
   "metadata": {},
   "outputs": [],
   "source": [
    "import time\n",
    "import random\n",
    "import numpy as np\n",
    "import matplotlib.pyplot as plt\n",
    "from memory_profiler import memory_usage"
   ]
  },
  {
   "cell_type": "markdown",
   "metadata": {},
   "source": [
    "## 1. Algorithm implementations"
   ]
  },
  {
   "cell_type": "code",
   "execution_count": 3,
   "metadata": {},
   "outputs": [
    {
     "name": "stdout",
     "output_type": "stream",
     "text": [
      "Loop results: [1, 3, 5, 7, 9]\n",
      "Numpy result: [1 3 5 7 9]\n",
      "List comprehension result: [1, 3, 5, 7, 9]\n"
     ]
    }
   ],
   "source": [
    "# Three possible functions to remove even numbers, one that uses\n",
    "# a loop, on that uses Numpy and one the uses a list comprehension.\n",
    "\n",
    "def loop_remove_evens(nums: list) -> list:\n",
    "    '''Removes even numbers from a list by looping over the\n",
    "    list, checking each element and collecting the odd ones.'''\n",
    "\n",
    "    evens=[]\n",
    "\n",
    "    for num in nums:\n",
    "        if num %2 != 0:\n",
    "            evens.append(num)\n",
    "\n",
    "    return evens\n",
    "\n",
    "\n",
    "def numpy_remove_evens(nums: list) -> list:\n",
    "    '''Removes even numbers from list using NumPy.'''\n",
    "\n",
    "    nums=np.array(nums)\n",
    "\n",
    "    return nums[nums % 2 != 0]\n",
    "\n",
    "\n",
    "def list_comp_remove_evens(nums: list) -> list:\n",
    "    '''Removes even numbers from list using list comprehension.'''\n",
    "\n",
    "    return [x for x in nums if x % 2 !=0]\n",
    "\n",
    "\n",
    "nums=[1, 2, 3, 4, 5, 6, 7, 8, 9, 10]\n",
    "print(f'Loop results: {loop_remove_evens(nums)}')\n",
    "print(f'Numpy result: {numpy_remove_evens(nums)}')\n",
    "print(f'List comprehension result: {list_comp_remove_evens(nums)}')"
   ]
  },
  {
   "cell_type": "markdown",
   "metadata": {},
   "source": [
    "The three functions give the same result - but are they equivalent?"
   ]
  },
  {
   "cell_type": "markdown",
   "metadata": {},
   "source": [
    "## 2. Algorithm implementation testing"
   ]
  },
  {
   "cell_type": "code",
   "execution_count": null,
   "metadata": {},
   "outputs": [],
   "source": [
    "n=500       # Number of trials to run\n",
    "k=10000000  # Number of random integers to use"
   ]
  },
  {
   "cell_type": "markdown",
   "metadata": {},
   "source": [
    "### 2.1. Memory footprint measurement"
   ]
  },
  {
   "cell_type": "code",
   "execution_count": null,
   "metadata": {},
   "outputs": [],
   "source": [
    "# Run the memory usage test with n replicates of k numbers each\n",
    "loop_memory_use=[]\n",
    "numpy_memory_use=[]\n",
    "list_comprehension_memory_use=[]\n",
    "\n",
    "# Collet n memory use measurements with different random lists\n",
    "for trial in range(n):\n",
    "\n",
    "    # Generate some random integers for this trial\n",
    "    random_list=random.choices(list(range(0,100)), k=k)\n",
    "\n",
    "    # Test loop version\n",
    "    mem_usage=memory_usage((loop_remove_evens, (random_list,)))\n",
    "    loop_memory_use.append(max(mem_usage))\n",
    "\n",
    "    # Test numpy version\n",
    "    mem_usage=memory_usage((numpy_remove_evens, (random_list,)))\n",
    "    numpy_memory_use.append(max(mem_usage))\n",
    "\n",
    "    # Test list comprehension version\n",
    "    mem_usage=memory_usage((list_comp_remove_evens, (random_list,)))\n",
    "    list_comprehension_memory_use.append(max(mem_usage))"
   ]
  },
  {
   "cell_type": "markdown",
   "metadata": {},
   "source": [
    "### 2.2. Execution time measurement"
   ]
  },
  {
   "cell_type": "code",
   "execution_count": null,
   "metadata": {},
   "outputs": [],
   "source": [
    "# Run execution time test with n replicates of k numbers each\n",
    "loop_execution_time=[]\n",
    "numpy_execution_time=[]\n",
    "list_comprehension_execution_time=[]\n",
    "\n",
    "# Collet n speed measurements with different random lists\n",
    "for trial in range(n):\n",
    "\n",
    "    # Generate some random integers for this trial\n",
    "    random_list=random.choices(list(range(0,100)), k=k)\n",
    "\n",
    "    # Test loop version\n",
    "    start=time.time()\n",
    "    loop_remove_evens(random_list)\n",
    "    loop_execution_time.append(time.time() - start)\n",
    "\n",
    "    # Test numpy version\n",
    "    start=time.time()\n",
    "    numpy_remove_evens(random_list)\n",
    "    numpy_execution_time.append(time.time() - start)\n",
    "\n",
    "    # Test list comprehension version\n",
    "    start=time.time()\n",
    "    list_comp_remove_evens(random_list)\n",
    "    list_comprehension_execution_time.append(time.time() - start)"
   ]
  }
 ],
 "metadata": {
  "kernelspec": {
   "display_name": ".venv",
   "language": "python",
   "name": "python3"
  },
  "language_info": {
   "codemirror_mode": {
    "name": "ipython",
    "version": 3
   },
   "file_extension": ".py",
   "mimetype": "text/x-python",
   "name": "python",
   "nbconvert_exporter": "python",
   "pygments_lexer": "ipython3",
   "version": "3.10.16"
  }
 },
 "nbformat": 4,
 "nbformat_minor": 2
}
